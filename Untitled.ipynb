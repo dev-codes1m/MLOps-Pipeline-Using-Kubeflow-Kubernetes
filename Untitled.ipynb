{
 "cells": [
  {
   "cell_type": "code",
   "execution_count": 1,
   "id": "f13244fa",
   "metadata": {},
   "outputs": [
    {
     "ename": "ModuleNotFoundError",
     "evalue": "No module named 'kserve'",
     "output_type": "error",
     "traceback": [
      "\u001b[1;31m---------------------------------------------------------------------------\u001b[0m",
      "\u001b[1;31mModuleNotFoundError\u001b[0m                       Traceback (most recent call last)",
      "Input \u001b[1;32mIn [1]\u001b[0m, in \u001b[0;36m<cell line: 1>\u001b[1;34m()\u001b[0m\n\u001b[1;32m----> 1\u001b[0m \u001b[38;5;28;01mfrom\u001b[39;00m \u001b[38;5;21;01mkserve\u001b[39;00m \u001b[38;5;28;01mimport\u001b[39;00m KServeClient\n",
      "\u001b[1;31mModuleNotFoundError\u001b[0m: No module named 'kserve'"
     ]
    }
   ],
   "source": [
    "from kserve import KServeClient"
   ]
  },
  {
   "cell_type": "code",
   "execution_count": 2,
   "id": "11598973",
   "metadata": {},
   "outputs": [
    {
     "name": "stdout",
     "output_type": "stream",
     "text": [
      "Collecting kserve==0.7.0\n",
      "  Using cached kserve-0.7.0-py3-none-any.whl (284 kB)\n",
      "Collecting google-auth==1.34.0\n",
      "  Using cached google_auth-1.34.0-py2.py3-none-any.whl (152 kB)\n",
      "Collecting cloudevents>=1.2.0\n",
      "  Using cached cloudevents-1.9.0-py3-none-any.whl (47 kB)\n",
      "Collecting minio<7.0.0,>=4.0.9\n",
      "  Using cached minio-6.0.2-py2.py3-none-any.whl (73 kB)\n",
      "Requirement already satisfied: certifi>=14.05.14 in c:\\users\\devan\\appdata\\local\\programs\\python\\python310\\lib\\site-packages (from kserve==0.7.0) (2022.9.24)\n",
      "Collecting google-api-core==1.29.0\n",
      "  Using cached google_api_core-1.29.0-py2.py3-none-any.whl (93 kB)\n",
      "Collecting certifi>=14.05.14\n",
      "  Using cached certifi-2021.5.30-py2.py3-none-any.whl (145 kB)\n",
      "Requirement already satisfied: psutil>=5.0 in c:\\users\\devan\\appdata\\local\\programs\\python\\python310\\lib\\site-packages (from kserve==0.7.0) (5.9.1)\n",
      "Collecting cachetools==4.2.2\n",
      "  Using cached cachetools-4.2.2-py3-none-any.whl (11 kB)\n",
      "Requirement already satisfied: setuptools>=21.0.0 in c:\\users\\devan\\appdata\\local\\programs\\python\\python310\\lib\\site-packages (from kserve==0.7.0) (58.1.0)\n",
      "Collecting azure-storage-blob==12.8.1\n",
      "  Using cached azure_storage_blob-12.8.1-py2.py3-none-any.whl (345 kB)\n",
      "Collecting azure-identity>=1.6.0\n",
      "  Using cached azure_identity-1.12.0-py3-none-any.whl (135 kB)\n",
      "Requirement already satisfied: numpy>=1.17.3 in c:\\users\\devan\\appdata\\roaming\\python\\python310\\site-packages (from kserve==0.7.0) (1.22.3)\n",
      "Collecting cryptography==3.4.7\n",
      "  Using cached cryptography-3.4.7-cp36-abi3-win_amd64.whl (1.6 MB)\n",
      "Collecting table-logger>=0.3.5\n",
      "  Using cached table_logger-0.3.6-py3-none-any.whl (14 kB)\n",
      "Collecting cffi==1.14.6\n",
      "  Using cached cffi-1.14.6.tar.gz (475 kB)\n",
      "  Preparing metadata (setup.py): started\n",
      "  Preparing metadata (setup.py): finished with status 'done'\n",
      "Collecting boto3==1.18.18\n",
      "  Using cached boto3-1.18.18-py3-none-any.whl (131 kB)\n",
      "Collecting botocore==1.21.18\n",
      "  Using cached botocore-1.21.18-py3-none-any.whl (7.8 MB)\n",
      "Collecting avro>=1.10.1\n",
      "  Using cached avro-1.11.1.tar.gz (84 kB)\n",
      "  Installing build dependencies: started\n",
      "  Installing build dependencies: finished with status 'done'\n",
      "  Getting requirements to build wheel: started\n",
      "  Getting requirements to build wheel: finished with status 'done'\n",
      "  Preparing metadata (pyproject.toml): started\n",
      "  Preparing metadata (pyproject.toml): finished with status 'done'\n",
      "Requirement already satisfied: tornado>=6.0.0 in c:\\users\\devan\\appdata\\local\\programs\\python\\python310\\lib\\site-packages (from kserve==0.7.0) (6.2)\n",
      "Collecting jmespath==0.10.0\n",
      "  Using cached jmespath-0.10.0-py2.py3-none-any.whl (24 kB)\n",
      "Collecting argparse>=1.4.0\n",
      "  Using cached argparse-1.4.0-py2.py3-none-any.whl (23 kB)\n",
      "Collecting azure-core==1.17.0\n",
      "  Using cached azure_core-1.17.0-py2.py3-none-any.whl (165 kB)\n"
     ]
    },
    {
     "name": "stderr",
     "output_type": "stream",
     "text": [
      "WARNING: Ignoring invalid distribution -ensorflow-gpu (c:\\users\\devan\\appdata\\roaming\\python\\python310\\site-packages)\n",
      "WARNING: Ignoring invalid distribution -ensorflow-gpu (c:\\users\\devan\\appdata\\roaming\\python\\python310\\site-packages)\n",
      "ERROR: Could not find a version that satisfies the requirement ray[serve]==1.5.0 (from kserve) (from versions: 2.2.0, 2.3.0rc0, 2.3.0, 2.3.1, 2.4.0)\n",
      "ERROR: No matching distribution found for ray[serve]==1.5.0\n",
      "WARNING: Ignoring invalid distribution -ensorflow-gpu (c:\\users\\devan\\appdata\\roaming\\python\\python310\\site-packages)\n",
      "WARNING: Ignoring invalid distribution -ensorflow-gpu (c:\\users\\devan\\appdata\\roaming\\python\\python310\\site-packages)\n",
      "WARNING: Ignoring invalid distribution -ensorflow-gpu (c:\\users\\devan\\appdata\\roaming\\python\\python310\\site-packages)\n",
      "\n",
      "[notice] A new release of pip available: 22.3.1 -> 23.1.2\n",
      "[notice] To update, run: python.exe -m pip install --upgrade pip\n"
     ]
    }
   ],
   "source": [
    "!pip install kserve==0.7.0"
   ]
  },
  {
   "cell_type": "code",
   "execution_count": 3,
   "id": "b78d9483",
   "metadata": {},
   "outputs": [
    {
     "ename": "ModuleNotFoundError",
     "evalue": "No module named 'kserve'",
     "output_type": "error",
     "traceback": [
      "\u001b[1;31m---------------------------------------------------------------------------\u001b[0m",
      "\u001b[1;31mModuleNotFoundError\u001b[0m                       Traceback (most recent call last)",
      "Input \u001b[1;32mIn [3]\u001b[0m, in \u001b[0;36m<cell line: 2>\u001b[1;34m()\u001b[0m\n\u001b[0;32m      1\u001b[0m \u001b[38;5;28;01mfrom\u001b[39;00m \u001b[38;5;21;01mkubernetes\u001b[39;00m \u001b[38;5;28;01mimport\u001b[39;00m client \n\u001b[1;32m----> 2\u001b[0m \u001b[38;5;28;01mfrom\u001b[39;00m \u001b[38;5;21;01mkserve\u001b[39;00m \u001b[38;5;28;01mimport\u001b[39;00m KServeClient\n\u001b[0;32m      3\u001b[0m \u001b[38;5;28;01mfrom\u001b[39;00m \u001b[38;5;21;01mkserve\u001b[39;00m \u001b[38;5;28;01mimport\u001b[39;00m constants\n\u001b[0;32m      4\u001b[0m \u001b[38;5;28;01mfrom\u001b[39;00m \u001b[38;5;21;01mkserve\u001b[39;00m \u001b[38;5;28;01mimport\u001b[39;00m utils\n",
      "\u001b[1;31mModuleNotFoundError\u001b[0m: No module named 'kserve'"
     ]
    }
   ],
   "source": [
    "from kubernetes import client \n",
    "from kserve import KServeClient\n",
    "from kserve import constants\n",
    "from kserve import utils\n",
    "from kserve import V1beta1InferenceService\n",
    "from kserve import V1beta1InferenceServiceSpec\n",
    "from kserve import V1beta1PredictorSpec\n",
    "from kserve import V1beta1SKLearnSpec"
   ]
  },
  {
   "cell_type": "code",
   "execution_count": null,
   "id": "01b9f9e6",
   "metadata": {},
   "outputs": [],
   "source": []
  }
 ],
 "metadata": {
  "kernelspec": {
   "display_name": "Python 3 (ipykernel)",
   "language": "python",
   "name": "python3"
  },
  "language_info": {
   "codemirror_mode": {
    "name": "ipython",
    "version": 3
   },
   "file_extension": ".py",
   "mimetype": "text/x-python",
   "name": "python",
   "nbconvert_exporter": "python",
   "pygments_lexer": "ipython3",
   "version": "3.10.4"
  }
 },
 "nbformat": 4,
 "nbformat_minor": 5
}
